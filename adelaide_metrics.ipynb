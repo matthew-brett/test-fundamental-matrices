{
 "cells": [
  {
   "cell_type": "code",
   "execution_count": 1,
   "id": "4c628afd",
   "metadata": {},
   "outputs": [],
   "source": [
    "import pandas as pd\n",
    "import matplotlib.pyplot as plt"
   ]
  },
  {
   "cell_type": "code",
   "execution_count": null,
   "id": "3d0547ce",
   "metadata": {},
   "outputs": [],
   "source": [
    "%run calc_adelaide_metrics.py"
   ]
  },
  {
   "cell_type": "code",
   "execution_count": 2,
   "id": "7dbc697f",
   "metadata": {},
   "outputs": [
    {
     "data": {
      "text/html": [
       "<div>\n",
       "<style scoped>\n",
       "    .dataframe tbody tr th:only-of-type {\n",
       "        vertical-align: middle;\n",
       "    }\n",
       "\n",
       "    .dataframe tbody tr th {\n",
       "        vertical-align: top;\n",
       "    }\n",
       "\n",
       "    .dataframe thead th {\n",
       "        text-align: right;\n",
       "    }\n",
       "</style>\n",
       "<table border=\"1\" class=\"dataframe\">\n",
       "  <thead>\n",
       "    <tr style=\"text-align: right;\">\n",
       "      <th></th>\n",
       "      <th>dataset</th>\n",
       "      <th>rms-mad</th>\n",
       "      <th>mrs-mad</th>\n",
       "      <th>cv28-mad</th>\n",
       "      <th>cvLMS-mad</th>\n",
       "      <th>rms-rmsd</th>\n",
       "      <th>mrs-rmsd</th>\n",
       "      <th>cv28-rmsd</th>\n",
       "      <th>cvLMS-rmsd</th>\n",
       "      <th>mad-mrs-better</th>\n",
       "      <th>rmsd-mrs-better</th>\n",
       "    </tr>\n",
       "  </thead>\n",
       "  <tbody>\n",
       "    <tr>\n",
       "      <th>0</th>\n",
       "      <td>barrsmith</td>\n",
       "      <td>0.934068</td>\n",
       "      <td>0.934679</td>\n",
       "      <td>0.934678</td>\n",
       "      <td>0.988943</td>\n",
       "      <td>2.267168</td>\n",
       "      <td>2.267442</td>\n",
       "      <td>2.267442</td>\n",
       "      <td>2.566267</td>\n",
       "      <td>False</td>\n",
       "      <td>False</td>\n",
       "    </tr>\n",
       "    <tr>\n",
       "      <th>1</th>\n",
       "      <td>raglan</td>\n",
       "      <td>1.047856</td>\n",
       "      <td>1.047845</td>\n",
       "      <td>1.047842</td>\n",
       "      <td>0.559220</td>\n",
       "      <td>1.901367</td>\n",
       "      <td>1.902407</td>\n",
       "      <td>1.902403</td>\n",
       "      <td>1.035239</td>\n",
       "      <td>True</td>\n",
       "      <td>False</td>\n",
       "    </tr>\n",
       "    <tr>\n",
       "      <th>2</th>\n",
       "      <td>physics</td>\n",
       "      <td>0.602146</td>\n",
       "      <td>0.602049</td>\n",
       "      <td>0.602049</td>\n",
       "      <td>0.961784</td>\n",
       "      <td>1.419239</td>\n",
       "      <td>1.419442</td>\n",
       "      <td>1.419442</td>\n",
       "      <td>2.335425</td>\n",
       "      <td>True</td>\n",
       "      <td>False</td>\n",
       "    </tr>\n",
       "    <tr>\n",
       "      <th>3</th>\n",
       "      <td>oldclassicswing</td>\n",
       "      <td>0.719224</td>\n",
       "      <td>0.712562</td>\n",
       "      <td>0.712562</td>\n",
       "      <td>0.408355</td>\n",
       "      <td>1.725208</td>\n",
       "      <td>1.715751</td>\n",
       "      <td>1.715751</td>\n",
       "      <td>1.536349</td>\n",
       "      <td>True</td>\n",
       "      <td>True</td>\n",
       "    </tr>\n",
       "    <tr>\n",
       "      <th>4</th>\n",
       "      <td>library</td>\n",
       "      <td>0.576315</td>\n",
       "      <td>0.576768</td>\n",
       "      <td>0.576768</td>\n",
       "      <td>0.658793</td>\n",
       "      <td>1.567356</td>\n",
       "      <td>1.567899</td>\n",
       "      <td>1.567899</td>\n",
       "      <td>1.731174</td>\n",
       "      <td>False</td>\n",
       "      <td>False</td>\n",
       "    </tr>\n",
       "  </tbody>\n",
       "</table>\n",
       "</div>"
      ],
      "text/plain": [
       "           dataset   rms-mad   mrs-mad  cv28-mad  cvLMS-mad  rms-rmsd  \\\n",
       "0        barrsmith  0.934068  0.934679  0.934678   0.988943  2.267168   \n",
       "1           raglan  1.047856  1.047845  1.047842   0.559220  1.901367   \n",
       "2          physics  0.602146  0.602049  0.602049   0.961784  1.419239   \n",
       "3  oldclassicswing  0.719224  0.712562  0.712562   0.408355  1.725208   \n",
       "4          library  0.576315  0.576768  0.576768   0.658793  1.567356   \n",
       "\n",
       "   mrs-rmsd  cv28-rmsd  cvLMS-rmsd  mad-mrs-better  rmsd-mrs-better  \n",
       "0  2.267442   2.267442    2.566267           False            False  \n",
       "1  1.902407   1.902403    1.035239            True            False  \n",
       "2  1.419442   1.419442    2.335425            True            False  \n",
       "3  1.715751   1.715751    1.536349            True             True  \n",
       "4  1.567899   1.567899    1.731174           False            False  "
      ]
     },
     "execution_count": 2,
     "metadata": {},
     "output_type": "execute_result"
    }
   ],
   "source": [
    "df = pd.read_csv('adelaide_rmf_metrics.csv')\n",
    "df.head()"
   ]
  },
  {
   "cell_type": "code",
   "execution_count": 3,
   "id": "5bd77d2c",
   "metadata": {},
   "outputs": [
    {
     "data": {
      "text/html": [
       "<div>\n",
       "<style scoped>\n",
       "    .dataframe tbody tr th:only-of-type {\n",
       "        vertical-align: middle;\n",
       "    }\n",
       "\n",
       "    .dataframe tbody tr th {\n",
       "        vertical-align: top;\n",
       "    }\n",
       "\n",
       "    .dataframe thead th {\n",
       "        text-align: right;\n",
       "    }\n",
       "</style>\n",
       "<table border=\"1\" class=\"dataframe\">\n",
       "  <thead>\n",
       "    <tr style=\"text-align: right;\">\n",
       "      <th></th>\n",
       "      <th>Value</th>\n",
       "    </tr>\n",
       "  </thead>\n",
       "  <tbody>\n",
       "    <tr>\n",
       "      <th>rms-mad</th>\n",
       "      <td>8.292127</td>\n",
       "    </tr>\n",
       "    <tr>\n",
       "      <th>mrs-mad</th>\n",
       "      <td>8.581175</td>\n",
       "    </tr>\n",
       "    <tr>\n",
       "      <th>cv28-mad</th>\n",
       "      <td>8.581175</td>\n",
       "    </tr>\n",
       "    <tr>\n",
       "      <th>cvLMS-mad</th>\n",
       "      <td>13.368665</td>\n",
       "    </tr>\n",
       "    <tr>\n",
       "      <th>rms-rmsd</th>\n",
       "      <td>18.531753</td>\n",
       "    </tr>\n",
       "    <tr>\n",
       "      <th>mrs-rmsd</th>\n",
       "      <td>19.108696</td>\n",
       "    </tr>\n",
       "    <tr>\n",
       "      <th>cv28-rmsd</th>\n",
       "      <td>19.108696</td>\n",
       "    </tr>\n",
       "    <tr>\n",
       "      <th>cvLMS-rmsd</th>\n",
       "      <td>38.507454</td>\n",
       "    </tr>\n",
       "    <tr>\n",
       "      <th>mad-mrs-better</th>\n",
       "      <td>0.609756</td>\n",
       "    </tr>\n",
       "    <tr>\n",
       "      <th>rmsd-mrs-better</th>\n",
       "      <td>0.560976</td>\n",
       "    </tr>\n",
       "  </tbody>\n",
       "</table>\n",
       "</div>"
      ],
      "text/plain": [
       "                     Value\n",
       "rms-mad           8.292127\n",
       "mrs-mad           8.581175\n",
       "cv28-mad          8.581175\n",
       "cvLMS-mad        13.368665\n",
       "rms-rmsd         18.531753\n",
       "mrs-rmsd         19.108696\n",
       "cv28-rmsd        19.108696\n",
       "cvLMS-rmsd       38.507454\n",
       "mad-mrs-better    0.609756\n",
       "rmsd-mrs-better   0.560976"
      ]
     },
     "execution_count": 3,
     "metadata": {},
     "output_type": "execute_result"
    }
   ],
   "source": [
    "df.loc[:, 'rms-mad':].mean().to_frame(name='Value')"
   ]
  },
  {
   "cell_type": "code",
   "execution_count": 4,
   "id": "9deb729b",
   "metadata": {},
   "outputs": [
    {
     "data": {
      "image/png": "[encoded data removed]",
      "text/plain": [
       "<Figure size 640x480 with 1 Axes>"
      ]
     },
     "metadata": {},
     "output_type": "display_data"
    }
   ],
   "source": [
    "plt.hist(df['mrs-mad'], alpha=0.5, bins=25, label='Hartley')\n",
    "plt.hist(df['rms-mad'], alpha=0.5, bins=25, label='RMS')\n",
    "plt.legend()\n",
    "plt.ylabel('Mean absolute distance')\n",
    "plt.title('MAD metrics for Adelaide datasets');"
   ]
  },
  {
   "cell_type": "code",
   "execution_count": 5,
   "id": "47e0f859",
   "metadata": {},
   "outputs": [
    {
     "data": {
      "image/png": "[encoded data removed]",
      "text/plain": [
       "<Figure size 640x480 with 1 Axes>"
      ]
     },
     "metadata": {},
     "output_type": "display_data"
    }
   ],
   "source": [
    "plt.hist(df['mrs-rmsd'], alpha=0.5, bins=25, label='Hartley')\n",
    "plt.hist(df['rms-rmsd'], alpha=0.5, bins=25, label='RMS')\n",
    "plt.legend()\n",
    "plt.ylabel('RMS bi-directional distance')\n",
    "plt.title('RMS bidirectional metrics for Adelaide datasets');"
   ]
  },
  {
   "cell_type": "code",
   "execution_count": null,
   "id": "b275541a",
   "metadata": {},
   "outputs": [],
   "source": []
  }
 ],
 "metadata": {
  "kernelspec": {
   "display_name": "Python 3 (ipykernel)",
   "language": "python",
   "name": "python3"
  },
  "language_info": {
   "codemirror_mode": {
    "name": "ipython",
    "version": 3
   },
   "file_extension": ".py",
   "mimetype": "text/x-python",
   "name": "python",
   "nbconvert_exporter": "python",
   "pygments_lexer": "ipython3",
   "version": "3.12.2"
  }
 },
 "nbformat": 4,
 "nbformat_minor": 5
}
